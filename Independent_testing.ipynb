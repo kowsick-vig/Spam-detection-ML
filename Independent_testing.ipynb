{
  "cells": [
    {
      "cell_type": "code",
      "execution_count": 1,
      "metadata": {
        "colab": {
          "base_uri": "https://localhost:8080/"
        },
        "id": "QYrgzfhXnthj",
        "outputId": "fa00acaa-ef72-4cb0-f15e-21d96ceac643"
      },
      "outputs": [
        {
          "name": "stderr",
          "output_type": "stream",
          "text": [
            "[nltk_data] Downloading package stopwords to /root/nltk_data...\n",
            "[nltk_data]   Unzipping corpora/stopwords.zip.\n",
            "[nltk_data] Downloading package punkt to /root/nltk_data...\n",
            "[nltk_data]   Unzipping tokenizers/punkt.zip.\n",
            "[nltk_data] Downloading package wordnet to /root/nltk_data...\n"
          ]
        }
      ],
      "source": [
        "import pandas as pd\n",
        "import joblib\n",
        "from sklearn.metrics import accuracy_score, precision_score, recall_score, f1_score\n",
        "from nltk.corpus import stopwords\n",
        "from nltk.tokenize import word_tokenize\n",
        "from nltk.stem import PorterStemmer, WordNetLemmatizer\n",
        "import nltk\n",
        "\n",
        "\n",
        "nltk.download('stopwords')\n",
        "nltk.download('punkt')\n",
        "nltk.download('wordnet')\n",
        "\n",
        "tfidf_vectorizer = joblib.load('tfidf_vectorizer.pkl')\n",
        "\n",
        "test_file_path = 'Independent_dataset.csv'\n",
        "df_test = pd.read_csv(test_file_path)\n",
        "\n",
        "stop_words = set(stopwords.words('english'))\n",
        "stemmer = PorterStemmer()\n",
        "lemmatizer = WordNetLemmatizer()\n",
        "\n",
        "def preprocess_text(text):\n",
        "    words = word_tokenize(text)\n",
        "    filtered_words = [word for word in words if word.lower() not in stop_words]\n",
        "    stemmed_words = [stemmer.stem(word) for word in filtered_words]\n",
        "    lemmatized_words = [lemmatizer.lemmatize(word) for word in stemmed_words]\n",
        "    preprocessed_text = ' '.join(lemmatized_words)\n",
        "    return preprocessed_text\n",
        "\n",
        "X_test = df_test['msg']\n",
        "\n",
        "true_labels = df_test['label']\n",
        "\n",
        "\n",
        "X_test_preprocessed = [preprocess_text(text) for text in X_test]\n",
        "\n",
        "# Transform the preprocessed test text data into TF-IDF vectors\n",
        "X_test_tfidf = tfidf_vectorizer.transform(X_test_preprocessed)\n",
        "\n",
        "\n"
      ]
    },
    {
      "cell_type": "code",
      "execution_count": 2,
      "metadata": {
        "colab": {
          "base_uri": "https://localhost:8080/"
        },
        "id": "pjEYnv4N73j-",
        "outputId": "6701c23b-47dc-45e0-fca5-b289a97a5bc2"
      },
      "outputs": [
        {
          "name": "stdout",
          "output_type": "stream",
          "text": [
            "Accuracy on the independent dataset: 0.64\n",
            "Precision on the independent dataset: 0.82\n",
            "Recall on the independent dataset: 0.64\n",
            "F1 score on the independent dataset: 0.62\n"
          ]
        }
      ],
      "source": [
        "svm_model = joblib.load('svm_model.pkl')\n",
        "svm_predictions = svm_model.predict(X_test_tfidf)\n",
        "\n",
        "\n",
        "accuracy = accuracy_score(true_labels, svm_predictions)\n",
        "precision = precision_score(true_labels, svm_predictions, average='weighted')\n",
        "recall = recall_score(true_labels, svm_predictions, average='weighted')\n",
        "f1 = f1_score(true_labels, svm_predictions, average='weighted')\n",
        "\n",
        "print(f'Accuracy on the independent dataset: {accuracy:.2f}')\n",
        "print(f'Precision on the independent dataset: {precision:.2f}')\n",
        "print(f'Recall on the independent dataset: {recall:.2f}')\n",
        "print(f'F1 score on the independent dataset: {f1:.2f}')"
      ]
    },
    {
      "cell_type": "code",
      "execution_count": null,
      "metadata": {
        "colab": {
          "base_uri": "https://localhost:8080/"
        },
        "id": "6PeAZC0LsQJV",
        "outputId": "3286368d-ee6e-43a5-d5b0-93860c082341"
      },
      "outputs": [
        {
          "name": "stdout",
          "output_type": "stream",
          "text": [
            "Accuracy on the independent dataset: 0.45\n",
            "Precision on the independent dataset: 0.78\n",
            "Recall on the independent dataset: 0.45\n",
            "F1 score on the independent dataset: 0.37\n"
          ]
        }
      ],
      "source": [
        "naive_bayes_model = joblib.load('naive_bayes_model.pkl')\n",
        "nv_predictions = naive_bayes_model.predict(X_test_tfidf)\n",
        "\n",
        "\n",
        "accuracy = accuracy_score(true_labels, nv_predictions)\n",
        "precision = precision_score(true_labels, nv_predictions, average='weighted')\n",
        "recall = recall_score(true_labels, nv_predictions, average='weighted')\n",
        "f1 = f1_score(true_labels, nv_predictions, average='weighted')\n",
        "\n",
        "print(f'Accuracy on the independent dataset: {accuracy:.2f}')\n",
        "print(f'Precision on the independent dataset: {precision:.2f}')\n",
        "print(f'Recall on the independent dataset: {recall:.2f}')\n",
        "print(f'F1 score on the independent dataset: {f1:.2f}')\n",
        "\n",
        "\n"
      ]
    },
    {
      "cell_type": "code",
      "execution_count": 4,
      "metadata": {
        "colab": {
          "base_uri": "https://localhost:8080/"
        },
        "id": "3MpxUeN9s5SR",
        "outputId": "c9a9ffce-f059-4df7-ec74-9e436cbc2118"
      },
      "outputs": [
        {
          "name": "stdout",
          "output_type": "stream",
          "text": [
            "Accuracy on the independent dataset: 0.36\n",
            "Precision on the independent dataset: 0.13\n",
            "Recall on the independent dataset: 0.36\n",
            "F1 score on the independent dataset: 0.19\n"
          ]
        }
      ],
      "source": [
        "decision_tree_model = joblib.load('decision_tree_model.pkl')\n",
        "dt_predictions = decision_tree_model.predict(X_test_tfidf)\n",
        "\n",
        "\n",
        "accuracy = accuracy_score(true_labels, dt_predictions)\n",
        "precision = precision_score(true_labels, dt_predictions, average='weighted', zero_division=0)\n",
        "recall = recall_score(true_labels, dt_predictions, average='weighted')\n",
        "f1 = f1_score(true_labels, dt_predictions, average='weighted')\n",
        "\n",
        "print(f'Accuracy on the independent dataset: {accuracy:.2f}')\n",
        "print(f'Precision on the independent dataset: {precision:.2f}')\n",
        "print(f'Recall on the independent dataset: {recall:.2f}')\n",
        "print(f'F1 score on the independent dataset: {f1:.2f}')"
      ]
    },
    {
      "cell_type": "code",
      "execution_count": 5,
      "metadata": {
        "colab": {
          "base_uri": "https://localhost:8080/"
        },
        "id": "YubAZNLptLjV",
        "outputId": "033a4812-d3a3-4e9d-b0d4-1d3664ec1eb6"
      },
      "outputs": [
        {
          "name": "stdout",
          "output_type": "stream",
          "text": [
            "Accuracy on the test dataset: 0.36\n",
            "Precision on the test dataset: 0.13\n",
            "Recall on the test dataset: 0.36\n",
            "F1 score on the test dataset: 0.19\n"
          ]
        }
      ],
      "source": [
        "knn_model = joblib.load('knn_model.pkl')\n",
        "knn_predictions = knn_model.predict(X_test_tfidf)\n",
        "\n",
        "\n",
        "accuracy = accuracy_score(true_labels, knn_predictions)\n",
        "precision = precision_score(true_labels, dt_predictions, average='weighted', zero_division=0)\n",
        "recall = recall_score(true_labels, knn_predictions, average='weighted')\n",
        "f1 = f1_score(true_labels, knn_predictions, average='weighted')\n",
        "\n",
        "print(f'Accuracy on the test dataset: {accuracy:.2f}')\n",
        "print(f'Precision on the test dataset: {precision:.2f}')\n",
        "print(f'Recall on the test dataset: {recall:.2f}')\n",
        "print(f'F1 score on the test dataset: {f1:.2f}')"
      ]
    },
    {
      "cell_type": "code",
      "execution_count": 6,
      "metadata": {
        "colab": {
          "base_uri": "https://localhost:8080/"
        },
        "id": "WCIMbWoDtcBo",
        "outputId": "08af007f-68ac-43e9-ec30-6ae45df0bc44"
      },
      "outputs": [
        {
          "name": "stdout",
          "output_type": "stream",
          "text": [
            "Accuracy on the test dataset: 0.36\n",
            "Precision on the test dataset: 0.13\n",
            "Recall on the test dataset: 0.36\n",
            "F1 score on the test dataset: 0.19\n"
          ]
        }
      ],
      "source": [
        "rf_model = joblib.load('rf_model.pkl')\n",
        "rf_predictions = rf_model.predict(X_test_tfidf)\n",
        "\n",
        "\n",
        "accuracy = accuracy_score(true_labels, rf_predictions)\n",
        "precision = precision_score(true_labels, rf_predictions, average='weighted', zero_division=0)\n",
        "recall = recall_score(true_labels, rf_predictions, average='weighted')\n",
        "f1 = f1_score(true_labels, rf_predictions, average='weighted')\n",
        "\n",
        "print(f'Accuracy on the test dataset: {accuracy:.2f}')\n",
        "print(f'Precision on the test dataset: {precision:.2f}')\n",
        "print(f'Recall on the test dataset: {recall:.2f}')\n",
        "print(f'F1 score on the test dataset: {f1:.2f}')"
      ]
    },
    {
      "cell_type": "code",
      "execution_count": null,
      "metadata": {
        "id": "m3TEJkirsqpC"
      },
      "outputs": [],
      "source": []
    }
  ],
  "metadata": {
    "colab": {
      "provenance": []
    },
    "kernelspec": {
      "display_name": "Python 3",
      "name": "python3"
    },
    "language_info": {
      "name": "python"
    }
  },
  "nbformat": 4,
  "nbformat_minor": 0
}
